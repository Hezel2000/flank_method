{
 "cells": [
  {
   "cell_type": "code",
   "execution_count": 5,
   "id": "93ab001f",
   "metadata": {},
   "outputs": [],
   "source": [
    "import pandas as pd\n",
    "import random"
   ]
  },
  {
   "cell_type": "code",
   "execution_count": 14,
   "id": "1a77afb5",
   "metadata": {},
   "outputs": [
    {
     "data": {
      "text/plain": [
       "0.8910940307553723"
      ]
     },
     "execution_count": 14,
     "metadata": {},
     "output_type": "execute_result"
    }
   ],
   "source": [
    "random.random()"
   ]
  },
  {
   "cell_type": "code",
   "execution_count": 18,
   "id": "03a5e3b6",
   "metadata": {},
   "outputs": [],
   "source": [
    "df = pd.read_csv('original flank method test dataset.csv')\n",
    "\n",
    "name_list = []\n",
    "\n",
    "for i in range(len(df)):\n",
    "    if 'Grid' in df.iloc[i,1] and df.iloc[i,1][:2] == 'MT':\n",
    "        name_list.append(df.iloc[i,1].split(' Grid')[0])\n",
    "\n",
    "red_name_list = []\n",
    "for i in name_list:\n",
    "    if i not in red_name_list:\n",
    "        red_name_list.append(i)\n",
    "\n",
    "for j in range(len(red_name_list)):\n",
    "    fil = df['Comment'].str.contains(red_name_list[j], regex=False)\n",
    "    tmp = df[fil]\n",
    "\n",
    "    start = tmp.index[0]\n",
    "    for i in range(start, start + len(tmp)):\n",
    "        new_comment_name = 'sample ' + str(j+1) + ' Grid' + df.iloc[i,1].split('Grid')[1]\n",
    "        df.iloc[i,1] = new_comment_name\n",
    "        if random.random() <.9:\n",
    "            new_inspected_name = 'sample ' + str(j+1) + ' Grid' + df.iloc[i,1].split('Grid')[1]\n",
    "        else:\n",
    "            new_inspected_name = 'ignore'\n",
    "        df.iloc[i,2] = new_inspected_name\n",
    "\n",
    "df.to_csv('converted.csv')"
   ]
  },
  {
   "cell_type": "code",
   "execution_count": null,
   "id": "1b9d3448",
   "metadata": {},
   "outputs": [],
   "source": []
  }
 ],
 "metadata": {
  "kernelspec": {
   "display_name": "Python 3 (ipykernel)",
   "language": "python",
   "name": "python3"
  },
  "language_info": {
   "codemirror_mode": {
    "name": "ipython",
    "version": 3
   },
   "file_extension": ".py",
   "mimetype": "text/x-python",
   "name": "python",
   "nbconvert_exporter": "python",
   "pygments_lexer": "ipython3",
   "version": "3.11.5"
  }
 },
 "nbformat": 4,
 "nbformat_minor": 5
}
