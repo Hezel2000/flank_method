{
 "cells": [
  {
   "cell_type": "code",
   "execution_count": 2,
   "id": "9892a139",
   "metadata": {},
   "outputs": [],
   "source": [
    "import pandas as pd"
   ]
  },
  {
   "cell_type": "code",
   "execution_count": 252,
   "id": "8f58b24a",
   "metadata": {},
   "outputs": [],
   "source": [
    "df = pd.read_csv('original flank method test dataset.csv')\n",
    "\n",
    "name_list = []\n",
    "\n",
    "for i in range(len(df)):\n",
    "    if 'Grid' in df.iloc[i,1] and df.iloc[i,1][:2] == 'MT':\n",
    "        name_list.append(df.iloc[i,1].split(' Grid')[0])\n",
    "\n",
    "red_name_list = list(set(name_list))\n",
    "\n",
    "\n",
    "for j in range(len(red_name_list)):\n",
    "    fil = df['Comment'].str.contains(red_name_list[j], regex=False)\n",
    "    tmp = df[fil]\n",
    "\n",
    "    start = tmp.index[0]\n",
    "    for i in range(start, start + len(tmp)):\n",
    "        new_name = 'sample ' + str(j+1) + ' Grid' + df.iloc[i,1].split('Grid')[1]\n",
    "        df.iloc[i,1] = new_name\n",
    "\n",
    "df.to_csv('converted.csv')"
   ]
  }
 ],
 "metadata": {
  "kernelspec": {
   "display_name": "Python 3 (ipykernel)",
   "language": "python",
   "name": "python3"
  },
  "language_info": {
   "codemirror_mode": {
    "name": "ipython",
    "version": 3
   },
   "file_extension": ".py",
   "mimetype": "text/x-python",
   "name": "python",
   "nbconvert_exporter": "python",
   "pygments_lexer": "ipython3",
   "version": "3.11.5"
  }
 },
 "nbformat": 4,
 "nbformat_minor": 5
}
