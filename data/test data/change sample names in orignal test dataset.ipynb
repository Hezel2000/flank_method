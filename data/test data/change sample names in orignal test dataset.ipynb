{
 "cells": [
  {
   "cell_type": "code",
   "execution_count": 2,
   "id": "04bb136f",
   "metadata": {},
   "outputs": [],
   "source": [
    "import pandas as pd"
   ]
  },
  {
   "cell_type": "code",
   "execution_count": 252,
   "id": "22c0fc20",
   "metadata": {},
   "outputs": [],
   "source": [
    "df = pd.read_csv('original flank method test dataset.csv')\n",
    "\n",
    "name_list = []\n",
    "\n",
    "for i in range(len(df)):\n",
    "    if 'Grid' in df.iloc[i,1] and df.iloc[i,1][:2] == 'MT':\n",
    "        name_list.append(df.iloc[i,1].split(' Grid')[0])\n",
    "\n",
    "red_name_list = list(set(name_list))\n",
    "\n",
    "\n",
    "for j in range(len(red_name_list)):\n",
    "    fil = df['Comment'].str.contains(red_name_list[j], regex=False)\n",
    "    tmp = df[fil]\n",
    "\n",
    "    start = tmp.index[0]\n",
    "    for i in range(start, start + len(tmp)):\n",
    "        new_name = 'sample ' + str(j+1) + ' Grid' + df.iloc[i,1].split('Grid')[1]\n",
    "        df.iloc[i,1] = new_name\n",
    "\n",
    "df.to_csv('converted.csv')"
   ]
  },
  {
   "cell_type": "code",
   "execution_count": 254,
   "id": "c6b8fa86",
   "metadata": {},
   "outputs": [
    {
     "data": {
      "text/plain": [
       "['MT-AP C4R3',\n",
       " 'MT-AP C2R6',\n",
       " 'MT-AR C2R5',\n",
       " 'MT-AC C3R1',\n",
       " 'MT-AR C1R6',\n",
       " 'MT-AP C1R5',\n",
       " 'MT-AB C1R1',\n",
       " 'MT-BD C1R2',\n",
       " 'MT-AR C1R7',\n",
       " 'MT-AP(PNK) C1R1',\n",
       " 'MT-AP C4R6',\n",
       " 'MT-AP C3R1',\n",
       " 'MT-AP C1R6',\n",
       " 'MT-AB C2R3',\n",
       " 'MT-AB C1R3 ',\n",
       " 'MT-AR C1R5',\n",
       " 'MT-BD C1R1',\n",
       " 'MT-AP C4R4',\n",
       " 'MT-AC C3R2',\n",
       " 'MT-AR C2R1',\n",
       " 'MT-AC C4R2',\n",
       " 'MT-BD C2R3',\n",
       " 'MT-AB C1R2',\n",
       " 'MT-AP C3R4',\n",
       " 'MT-BD C2R5',\n",
       " 'MT-BD C1R5',\n",
       " 'MT-AP C3R5',\n",
       " 'MT-BD C1R4',\n",
       " 'MT-AP C2R4',\n",
       " 'MT-BD C1R3',\n",
       " 'MT-AR C1R1',\n",
       " 'MT-AR C2R6',\n",
       " 'MT-AR C2R4',\n",
       " 'MT-AC C2R1',\n",
       " 'MT-AR C1R2',\n",
       " 'MT-AP C3R2',\n",
       " 'MT-AP C2R5',\n",
       " 'MT-AB(LRG) C1R1',\n",
       " 'MT-AC C4R1',\n",
       " 'MT-AC C2R2',\n",
       " 'MT-AR C2R2',\n",
       " 'MT-AP C4R5',\n",
       " 'MT-AB(LRG) C2R1',\n",
       " 'MT-AP(PNK) C4R1',\n",
       " 'MT-AP C3R6',\n",
       " 'MT-AR C1R3',\n",
       " 'MT-AP(PNK) C2R1',\n",
       " 'MT-BD C2R4',\n",
       " 'MT-AR C2R7',\n",
       " 'MT-AB(LRG) C3R1',\n",
       " 'MT-AC C1R2',\n",
       " 'MT-AP C2R2',\n",
       " 'MT-AR C1R4',\n",
       " 'MT-AB C2R1',\n",
       " 'MT-AP(PNK) C3R1',\n",
       " 'MT-BD C2R2',\n",
       " 'MT-AP C3R3',\n",
       " 'MT-AR C2R3',\n",
       " 'MT-BD C2R1',\n",
       " 'MT-AP C1R4']"
      ]
     },
     "execution_count": 254,
     "metadata": {},
     "output_type": "execute_result"
    }
   ],
   "source": [
    "red_name_list = []\n",
    "for i in name_list:\n",
    "    if i in red_name_list\n"
   ]
  }
 ],
 "metadata": {
  "kernelspec": {
   "display_name": "Python 3 (ipykernel)",
   "language": "python",
   "name": "python3"
  },
  "language_info": {
   "codemirror_mode": {
    "name": "ipython",
    "version": 3
   },
   "file_extension": ".py",
   "mimetype": "text/x-python",
   "name": "python",
   "nbconvert_exporter": "python",
   "pygments_lexer": "ipython3",
   "version": "3.11.5"
  }
 },
 "nbformat": 4,
 "nbformat_minor": 5
}
