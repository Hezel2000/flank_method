{
 "cells": [
  {
   "cell_type": "code",
   "execution_count": 1,
   "id": "154e8af0",
   "metadata": {},
   "outputs": [],
   "source": [
    "import pandas as pd"
   ]
  },
  {
   "cell_type": "code",
   "execution_count": 20,
   "id": "703da35d",
   "metadata": {},
   "outputs": [
    {
     "name": "stdout",
     "output_type": "stream",
     "text": [
      "Mir+Grt_A1 Grid 001x001\n",
      "Mir+Grt_A1 Grid 001x002\n",
      "Mir+Grt_A1 Grid 001x003\n",
      "Mir+Grt_A1 Grid 001x004\n",
      "Mir+Grt_A1 Grid 001x005\n",
      "Mir+Grt_A1 Grid 002x001\n",
      "Mir+Grt_A1 Grid 002x002\n",
      "Mir+Grt_A1 Grid 002x003\n",
      "Mir+Grt_A1 Grid 002x004\n",
      "Mir+Grt_A1 Grid 002x005\n",
      "Mir+Grt_A1 Grid 003x001\n",
      "Mir+Grt_A1 Grid 003x002\n",
      "Mir+Grt_A1 Grid 003x003\n",
      "Mir+Grt_A1 Grid 003x004\n",
      "Mir+Grt_A1 Grid 003x005\n",
      "Mir+Grt_A1 Grid 004x001\n",
      "Mir+Grt_A1 Grid 004x002\n",
      "Mir+Grt_A1 Grid 004x003\n",
      "Mir+Grt_A1 Grid 004x004\n",
      "Mir+Grt_A1 Grid 004x005\n",
      "Mir+Grt_A1 Grid 005x001\n",
      "Mir+Grt_A1 Grid 005x002\n",
      "Mir+Grt_A1 Grid 005x003\n",
      "Mir+Grt_A1 Grid 005x004\n",
      "Mir+Grt_A1 Grid 005x005\n",
      "Mir+Grt_A1_line1 Line 001\n",
      "Mir+Grt_A1_line1 Line 002\n",
      "Mir+Grt_A1_line1 Line 003\n",
      "Mir+Grt_A1_line1 Line 004\n",
      "Mir+Grt_A1_line1 Line 005\n",
      "Mir+Grt_A1_line1 Line 006\n",
      "Mir+Grt_A1_line1 Line 007\n",
      "Mir+Grt_A1_line1 Line 008\n",
      "Mir+Grt_A1_line1 Line 009\n",
      "Mir+Grt_A1_line1 Line 010\n",
      "Mir+Grt_A1_line1 Line 011\n",
      "Mir+Grt_A1_line1 Line 012\n",
      "Mir+Grt_A1_line1 Line 013\n",
      "Mir+Grt_A1_line1 Line 014\n",
      "Mir+Grt_A1_line1 Line 015\n",
      "Mir+Grt_A1_line1 Line 016\n",
      "Mir+Grt_A1_line1 Line 017\n",
      "Mir+Grt_A1_line1 Line 018\n",
      "Mir+Grt_A1_line1 Line 019\n",
      "Mir+Grt_A1_line1 Line 020\n",
      "Mir+Grt_A1_line1 Line 021\n",
      "Mir+Grt_A1_line1 Line 022\n",
      "Mir+Grt_A1_line1 Line 023\n",
      "Mir+Grt_A1_line1 Line 024\n",
      "Mir+Grt_A1_line1 Line 025\n"
     ]
    }
   ],
   "source": [
    "df = pd.read_csv('fq176.csv')\n",
    "dfMoess = pd.read_csv('Moessbauer standard data.csv')\n",
    "df['Comment']\n",
    "for i in df['Comment']:\n",
    "    if 'Mir+Grt' in i:\n",
    "        print(i)"
   ]
  },
  {
   "cell_type": "code",
   "execution_count": 22,
   "id": "19bbacab",
   "metadata": {},
   "outputs": [
    {
     "data": {
      "text/plain": [
       "'Mir+Grt'"
      ]
     },
     "execution_count": 22,
     "metadata": {},
     "output_type": "execute_result"
    }
   ],
   "source": [
    "'Mir+Grt_McC_ABW'.split('_')[0]"
   ]
  },
  {
   "cell_type": "code",
   "execution_count": 21,
   "id": "93e3fb21",
   "metadata": {},
   "outputs": [
    {
     "ename": "KeyError",
     "evalue": "'Fe3+/SumFe'",
     "output_type": "error",
     "traceback": [
      "\u001b[0;31m---------------------------------------------------------------------------\u001b[0m",
      "\u001b[0;31mKeyError\u001b[0m                                  Traceback (most recent call last)",
      "File \u001b[0;32m~/opt/anaconda3/lib/python3.8/site-packages/pandas/core/indexes/base.py:3621\u001b[0m, in \u001b[0;36mIndex.get_loc\u001b[0;34m(self, key, method, tolerance)\u001b[0m\n\u001b[1;32m   3620\u001b[0m \u001b[38;5;28;01mtry\u001b[39;00m:\n\u001b[0;32m-> 3621\u001b[0m     \u001b[38;5;28;01mreturn\u001b[39;00m \u001b[38;5;28;43mself\u001b[39;49m\u001b[38;5;241;43m.\u001b[39;49m\u001b[43m_engine\u001b[49m\u001b[38;5;241;43m.\u001b[39;49m\u001b[43mget_loc\u001b[49m\u001b[43m(\u001b[49m\u001b[43mcasted_key\u001b[49m\u001b[43m)\u001b[49m\n\u001b[1;32m   3622\u001b[0m \u001b[38;5;28;01mexcept\u001b[39;00m \u001b[38;5;167;01mKeyError\u001b[39;00m \u001b[38;5;28;01mas\u001b[39;00m err:\n",
      "File \u001b[0;32m~/opt/anaconda3/lib/python3.8/site-packages/pandas/_libs/index.pyx:136\u001b[0m, in \u001b[0;36mpandas._libs.index.IndexEngine.get_loc\u001b[0;34m()\u001b[0m\n",
      "File \u001b[0;32m~/opt/anaconda3/lib/python3.8/site-packages/pandas/_libs/index.pyx:163\u001b[0m, in \u001b[0;36mpandas._libs.index.IndexEngine.get_loc\u001b[0;34m()\u001b[0m\n",
      "File \u001b[0;32mpandas/_libs/hashtable_class_helper.pxi:5198\u001b[0m, in \u001b[0;36mpandas._libs.hashtable.PyObjectHashTable.get_item\u001b[0;34m()\u001b[0m\n",
      "File \u001b[0;32mpandas/_libs/hashtable_class_helper.pxi:5206\u001b[0m, in \u001b[0;36mpandas._libs.hashtable.PyObjectHashTable.get_item\u001b[0;34m()\u001b[0m\n",
      "\u001b[0;31mKeyError\u001b[0m: 'Fe3+/SumFe'",
      "\nThe above exception was the direct cause of the following exception:\n",
      "\u001b[0;31mKeyError\u001b[0m                                  Traceback (most recent call last)",
      "Input \u001b[0;32mIn [21]\u001b[0m, in \u001b[0;36m<cell line: 2>\u001b[0;34m()\u001b[0m\n\u001b[1;32m      1\u001b[0m fil \u001b[38;5;241m=\u001b[39m df[\u001b[38;5;124m'\u001b[39m\u001b[38;5;124mComment\u001b[39m\u001b[38;5;124m'\u001b[39m] \u001b[38;5;241m==\u001b[39m \u001b[38;5;124m'\u001b[39m\u001b[38;5;124mMir+Grt\u001b[39m\u001b[38;5;124m'\u001b[39m\n\u001b[0;32m----> 2\u001b[0m \u001b[43mdf\u001b[49m\u001b[43m[\u001b[49m\u001b[43mfil\u001b[49m\u001b[43m]\u001b[49m\u001b[43m[\u001b[49m\u001b[38;5;124;43m'\u001b[39;49m\u001b[38;5;124;43mFe3+/SumFe\u001b[39;49m\u001b[38;5;124;43m'\u001b[39;49m\u001b[43m]\u001b[49m\u001b[38;5;241m.\u001b[39mtolist()[\u001b[38;5;241m0\u001b[39m]\n",
      "File \u001b[0;32m~/opt/anaconda3/lib/python3.8/site-packages/pandas/core/frame.py:3505\u001b[0m, in \u001b[0;36mDataFrame.__getitem__\u001b[0;34m(self, key)\u001b[0m\n\u001b[1;32m   3503\u001b[0m \u001b[38;5;28;01mif\u001b[39;00m \u001b[38;5;28mself\u001b[39m\u001b[38;5;241m.\u001b[39mcolumns\u001b[38;5;241m.\u001b[39mnlevels \u001b[38;5;241m>\u001b[39m \u001b[38;5;241m1\u001b[39m:\n\u001b[1;32m   3504\u001b[0m     \u001b[38;5;28;01mreturn\u001b[39;00m \u001b[38;5;28mself\u001b[39m\u001b[38;5;241m.\u001b[39m_getitem_multilevel(key)\n\u001b[0;32m-> 3505\u001b[0m indexer \u001b[38;5;241m=\u001b[39m \u001b[38;5;28;43mself\u001b[39;49m\u001b[38;5;241;43m.\u001b[39;49m\u001b[43mcolumns\u001b[49m\u001b[38;5;241;43m.\u001b[39;49m\u001b[43mget_loc\u001b[49m\u001b[43m(\u001b[49m\u001b[43mkey\u001b[49m\u001b[43m)\u001b[49m\n\u001b[1;32m   3506\u001b[0m \u001b[38;5;28;01mif\u001b[39;00m is_integer(indexer):\n\u001b[1;32m   3507\u001b[0m     indexer \u001b[38;5;241m=\u001b[39m [indexer]\n",
      "File \u001b[0;32m~/opt/anaconda3/lib/python3.8/site-packages/pandas/core/indexes/base.py:3623\u001b[0m, in \u001b[0;36mIndex.get_loc\u001b[0;34m(self, key, method, tolerance)\u001b[0m\n\u001b[1;32m   3621\u001b[0m     \u001b[38;5;28;01mreturn\u001b[39;00m \u001b[38;5;28mself\u001b[39m\u001b[38;5;241m.\u001b[39m_engine\u001b[38;5;241m.\u001b[39mget_loc(casted_key)\n\u001b[1;32m   3622\u001b[0m \u001b[38;5;28;01mexcept\u001b[39;00m \u001b[38;5;167;01mKeyError\u001b[39;00m \u001b[38;5;28;01mas\u001b[39;00m err:\n\u001b[0;32m-> 3623\u001b[0m     \u001b[38;5;28;01mraise\u001b[39;00m \u001b[38;5;167;01mKeyError\u001b[39;00m(key) \u001b[38;5;28;01mfrom\u001b[39;00m \u001b[38;5;21;01merr\u001b[39;00m\n\u001b[1;32m   3624\u001b[0m \u001b[38;5;28;01mexcept\u001b[39;00m \u001b[38;5;167;01mTypeError\u001b[39;00m:\n\u001b[1;32m   3625\u001b[0m     \u001b[38;5;66;03m# If we have a listlike key, _check_indexing_error will raise\u001b[39;00m\n\u001b[1;32m   3626\u001b[0m     \u001b[38;5;66;03m#  InvalidIndexError. Otherwise we fall through and re-raise\u001b[39;00m\n\u001b[1;32m   3627\u001b[0m     \u001b[38;5;66;03m#  the TypeError.\u001b[39;00m\n\u001b[1;32m   3628\u001b[0m     \u001b[38;5;28mself\u001b[39m\u001b[38;5;241m.\u001b[39m_check_indexing_error(key)\n",
      "\u001b[0;31mKeyError\u001b[0m: 'Fe3+/SumFe'"
     ]
    }
   ],
   "source": [
    "fil = df['Comment'] == 'Mir+Grt_McC_ABW'\n",
    "df[fil]['Fe3+/SumFe'].tolist()[0]"
   ]
  },
  {
   "cell_type": "code",
   "execution_count": 8,
   "id": "91b7f17a",
   "metadata": {},
   "outputs": [
    {
     "data": {
      "text/plain": [
       "0.1815"
      ]
     },
     "execution_count": 8,
     "metadata": {},
     "output_type": "execute_result"
    }
   ],
   "source": [
    "fil = df['Name'] == 'Mir+Grt_McC_ABW'\n",
    "df[fil]['Fe3+/SumFe'].tolist()[0]"
   ]
  },
  {
   "cell_type": "code",
   "execution_count": 40,
   "id": "8a7231d8",
   "metadata": {},
   "outputs": [
    {
     "data": {
      "text/html": [
       "<div>\n",
       "<style scoped>\n",
       "    .dataframe tbody tr th:only-of-type {\n",
       "        vertical-align: middle;\n",
       "    }\n",
       "\n",
       "    .dataframe tbody tr th {\n",
       "        vertical-align: top;\n",
       "    }\n",
       "\n",
       "    .dataframe thead th {\n",
       "        text-align: right;\n",
       "    }\n",
       "</style>\n",
       "<table border=\"1\" class=\"dataframe\">\n",
       "  <thead>\n",
       "    <tr style=\"text-align: right;\">\n",
       "      <th></th>\n",
       "      <th>Name</th>\n",
       "      <th>Fe3+/SumFe</th>\n",
       "      <th>Fe2+/SumFe</th>\n",
       "      <th>Fe3+/SumFe - Milliprobe</th>\n",
       "      <th>Fe2+/SumFe - Milliprobe</th>\n",
       "      <th>Fe3+/SumFe - Alan</th>\n",
       "      <th>Fe2+/SumFe - Alan</th>\n",
       "      <th>FeO (wt%)</th>\n",
       "      <th>Source</th>\n",
       "      <th>Comment</th>\n",
       "      <th>...</th>\n",
       "      <th>Al2O3</th>\n",
       "      <th>Cr2O3</th>\n",
       "      <th>MnO</th>\n",
       "      <th>NiO</th>\n",
       "      <th>MgO</th>\n",
       "      <th>CaO</th>\n",
       "      <th>Na2O</th>\n",
       "      <th>K2O</th>\n",
       "      <th>P2O5</th>\n",
       "      <th>Total</th>\n",
       "    </tr>\n",
       "  </thead>\n",
       "  <tbody>\n",
       "  </tbody>\n",
       "</table>\n",
       "<p>0 rows × 23 columns</p>\n",
       "</div>"
      ],
      "text/plain": [
       "Empty DataFrame\n",
       "Columns: [Name, Fe3+/SumFe, Fe2+/SumFe, Fe3+/SumFe - Milliprobe, Fe2+/SumFe - Milliprobe, Fe3+/SumFe - Alan, Fe2+/SumFe - Alan, FeO (wt%), Source, Comment, Total no. of measurements, SiO2, TiO2, Al2O3, Cr2O3, MnO, NiO, MgO, CaO, Na2O, K2O, P2O5, Total]\n",
       "Index: []\n",
       "\n",
       "[0 rows x 23 columns]"
      ]
     },
     "execution_count": 40,
     "metadata": {},
     "output_type": "execute_result"
    }
   ],
   "source": [
    "dfMoess[dfMoess['Name'].str.contains('MirPlusGrt')]"
   ]
  },
  {
   "cell_type": "code",
   "execution_count": null,
   "id": "acdc79b3",
   "metadata": {},
   "outputs": [],
   "source": []
  }
 ],
 "metadata": {
  "kernelspec": {
   "display_name": "Python 3 (ipykernel)",
   "language": "python",
   "name": "python3"
  },
  "language_info": {
   "codemirror_mode": {
    "name": "ipython",
    "version": 3
   },
   "file_extension": ".py",
   "mimetype": "text/x-python",
   "name": "python",
   "nbconvert_exporter": "python",
   "pygments_lexer": "ipython3",
   "version": "3.8.5"
  }
 },
 "nbformat": 4,
 "nbformat_minor": 5
}
